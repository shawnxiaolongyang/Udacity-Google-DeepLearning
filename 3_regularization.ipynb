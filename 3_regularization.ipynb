{
 "cells": [
  {
   "cell_type": "markdown",
   "metadata": {
    "colab_type": "text",
    "id": "kR-4eNdK6lYS"
   },
   "source": [
    "Deep Learning\n",
    "=============\n",
    "\n",
    "Assignment 3\n",
    "------------\n",
    "\n",
    "Previously in `2_fullyconnected.ipynb`, you trained a logistic regression and a neural network model.\n",
    "\n",
    "The goal of this assignment is to explore regularization techniques."
   ]
  },
  {
   "cell_type": "code",
   "execution_count": 1,
   "metadata": {
    "cellView": "both",
    "colab": {
     "autoexec": {
      "startup": false,
      "wait_interval": 0
     }
    },
    "colab_type": "code",
    "collapsed": false,
    "id": "JLpLa8Jt7Vu4"
   },
   "outputs": [],
   "source": [
    "# These are all the modules we'll be using later. Make sure you can import them\n",
    "# before proceeding further.\n",
    "from __future__ import print_function\n",
    "import numpy as np\n",
    "import tensorflow as tf\n",
    "from six.moves import cPickle as pickle"
   ]
  },
  {
   "cell_type": "markdown",
   "metadata": {
    "colab_type": "text",
    "id": "1HrCK6e17WzV"
   },
   "source": [
    "First reload the data we generated in _notmist.ipynb_."
   ]
  },
  {
   "cell_type": "code",
   "execution_count": 3,
   "metadata": {
    "cellView": "both",
    "colab": {
     "autoexec": {
      "startup": false,
      "wait_interval": 0
     },
     "output_extras": [
      {
       "item_id": 1
      }
     ]
    },
    "colab_type": "code",
    "collapsed": false,
    "executionInfo": {
     "elapsed": 11777,
     "status": "ok",
     "timestamp": 1449849322348,
     "user": {
      "color": "",
      "displayName": "",
      "isAnonymous": false,
      "isMe": true,
      "permissionId": "",
      "photoUrl": "",
      "sessionId": "0",
      "userId": ""
     },
     "user_tz": 480
    },
    "id": "y3-cj1bpmuxc",
    "outputId": "e03576f1-ebbe-4838-c388-f1777bcc9873"
   },
   "outputs": [
    {
     "name": "stdout",
     "output_type": "stream",
     "text": [
      "Training set (200000, 28, 28) (200000,)\n",
      "Validation set (10000, 28, 28) (10000,)\n",
      "Test set (10000, 28, 28) (10000,)\n"
     ]
    }
   ],
   "source": [
    "pickle_file = 'notMNIST.pickle'\n",
    "\n",
    "with open(pickle_file, 'rb') as f:\n",
    "  save = pickle.load(f,encoding='latin1')\n",
    "  train_dataset = save['train_dataset']\n",
    "  train_labels = save['train_labels']\n",
    "  valid_dataset = save['valid_dataset']\n",
    "  valid_labels = save['valid_labels']\n",
    "  test_dataset = save['test_dataset']\n",
    "  test_labels = save['test_labels']\n",
    "  del save  # hint to help gc free up memory\n",
    "  print('Training set', train_dataset.shape, train_labels.shape)\n",
    "  print('Validation set', valid_dataset.shape, valid_labels.shape)\n",
    "  print('Test set', test_dataset.shape, test_labels.shape)"
   ]
  },
  {
   "cell_type": "markdown",
   "metadata": {
    "colab_type": "text",
    "id": "L7aHrm6nGDMB"
   },
   "source": [
    "Reformat into a shape that's more adapted to the models we're going to train:\n",
    "- data as a flat matrix,\n",
    "- labels as float 1-hot encodings."
   ]
  },
  {
   "cell_type": "code",
   "execution_count": 4,
   "metadata": {
    "cellView": "both",
    "colab": {
     "autoexec": {
      "startup": false,
      "wait_interval": 0
     },
     "output_extras": [
      {
       "item_id": 1
      }
     ]
    },
    "colab_type": "code",
    "collapsed": false,
    "executionInfo": {
     "elapsed": 11728,
     "status": "ok",
     "timestamp": 1449849322356,
     "user": {
      "color": "",
      "displayName": "",
      "isAnonymous": false,
      "isMe": true,
      "permissionId": "",
      "photoUrl": "",
      "sessionId": "0",
      "userId": ""
     },
     "user_tz": 480
    },
    "id": "IRSyYiIIGIzS",
    "outputId": "3f8996ee-3574-4f44-c953-5c8a04636582"
   },
   "outputs": [
    {
     "name": "stdout",
     "output_type": "stream",
     "text": [
      "Training set (200000, 784) (200000, 10)\n",
      "Validation set (10000, 784) (10000, 10)\n",
      "Test set (10000, 784) (10000, 10)\n"
     ]
    }
   ],
   "source": [
    "image_size = 28\n",
    "num_labels = 10\n",
    "\n",
    "def reformat(dataset, labels):\n",
    "  dataset = dataset.reshape((-1, image_size * image_size)).astype(np.float32)\n",
    "  # Map 1 to [0.0, 1.0, 0.0 ...], 2 to [0.0, 0.0, 1.0 ...]\n",
    "  labels = (np.arange(num_labels) == labels[:,None]).astype(np.float32)\n",
    "  return dataset, labels\n",
    "train_dataset, train_labels = reformat(train_dataset, train_labels)\n",
    "valid_dataset, valid_labels = reformat(valid_dataset, valid_labels)\n",
    "test_dataset, test_labels = reformat(test_dataset, test_labels)\n",
    "print('Training set', train_dataset.shape, train_labels.shape)\n",
    "print('Validation set', valid_dataset.shape, valid_labels.shape)\n",
    "print('Test set', test_dataset.shape, test_labels.shape)"
   ]
  },
  {
   "cell_type": "code",
   "execution_count": 5,
   "metadata": {
    "cellView": "both",
    "colab": {
     "autoexec": {
      "startup": false,
      "wait_interval": 0
     }
    },
    "colab_type": "code",
    "collapsed": true,
    "id": "RajPLaL_ZW6w"
   },
   "outputs": [],
   "source": [
    "def accuracy(predictions, labels):\n",
    "  return (100.0 * np.sum(np.argmax(predictions, 1) == np.argmax(labels, 1))\n",
    "          / predictions.shape[0])"
   ]
  },
  {
   "cell_type": "markdown",
   "metadata": {
    "colab_type": "text",
    "id": "sgLbUAQ1CW-1"
   },
   "source": [
    "---\n",
    "Problem 1\n",
    "---------\n",
    "\n",
    "Introduce and tune L2 regularization for both logistic and neural network models. Remember that L2 amounts to adding a penalty on the norm of the weights to the loss. In TensorFlow, you can compute the L2 loss for a tensor `t` using `nn.l2_loss(t)`. The right amount of regularization should improve your validation / test accuracy.\n",
    "\n",
    "---"
   ]
  },
  {
   "cell_type": "code",
   "execution_count": 67,
   "metadata": {
    "collapsed": true
   },
   "outputs": [],
   "source": [
    "def paras_train(x,y):\n",
    "    # Variables.\n",
    "    weights = tf.Variable(tf.truncated_normal([x, y]))\n",
    "    biases = tf.Variable(tf.zeros([y]))\n",
    "    return weights,biases"
   ]
  },
  {
   "cell_type": "code",
   "execution_count": 162,
   "metadata": {
    "collapsed": true
   },
   "outputs": [],
   "source": [
    "def logistic_function(num_steps,num_batches, x, y, l2_weights,batch_size,valid_dataset,test_dataset):\n",
    "    graph = tf.Graph()\n",
    "    with graph.as_default():\n",
    "        # Input data.\n",
    "        tf_train_dataset = tf.placeholder(tf.float32,\n",
    "                                          shape=(batch_size, x))\n",
    "        tf_train_labels = tf.placeholder(tf.float32, shape=(batch_size, y))\n",
    "        tf_valid_dataset = tf.constant(valid_dataset)\n",
    "        tf_test_dataset = tf.constant(test_dataset)\n",
    "\n",
    "        # Variables.\n",
    "        weights, biases = paras_train(x, y)\n",
    "\n",
    "        # Training computation.\n",
    "        logits = tf.matmul(tf_train_dataset, weights) + biases\n",
    "        loss = tf.reduce_mean(\n",
    "            tf.nn.softmax_cross_entropy_with_logits(logits, tf_train_labels))\n",
    "        l2_loss = tf.nn.l2_loss(weights)\n",
    "        sum_loss = loss + l2_loss*l2_weights\n",
    "\n",
    "        # Optimizer.\n",
    "        optimizer = tf.train.GradientDescentOptimizer(0.5).minimize(sum_loss)\n",
    "\n",
    "        # Predictions for the training, validation, and test data.\n",
    "        train_prediction = tf.nn.softmax(logits)\n",
    "        valid_prediction = tf.nn.softmax(\n",
    "            tf.matmul(tf_valid_dataset, weights) + biases)\n",
    "        test_prediction = tf.nn.softmax(\n",
    "            tf.matmul(tf_test_dataset, weights) + biases)\n",
    "    \n",
    "    \n",
    "\n",
    "    with tf.Session(graph=graph) as session:\n",
    "        tf.global_variables_initializer().run()\n",
    "        print(\"Initialized\")\n",
    "        for step in range(num_steps):\n",
    "            # Pick an offset within the training data, which has been randomized.\n",
    "            # Note: we could use better randomization across epochs.\n",
    "            if(num_batches != None):\n",
    "                offset = step % num_batches\n",
    "            else:\n",
    "                offset = (step * batch_size) % (train_labels.shape[0] - batch_size)\n",
    "            # Generate a minibatch.\n",
    "            batch_data = train_dataset[offset:(offset + batch_size), :]\n",
    "            batch_labels = train_labels[offset:(offset + batch_size), :]\n",
    "            # Prepare a dictionary telling the session where to feed the minibatch.\n",
    "            # The key of the dictionary is the placeholder node of the graph to be fed,\n",
    "            # and the value is the numpy array to feed to it.\n",
    "            feed_dict = {tf_train_dataset : batch_data, tf_train_labels : batch_labels}\n",
    "            _, l, predictions = session.run(\n",
    "                [optimizer, loss, train_prediction], feed_dict=feed_dict)\n",
    "            if (step % (num_steps/5) == 0):\n",
    "                print(\"Minibatch loss at step %d: %f\" % (step, l))\n",
    "                print(\"Minibatch accuracy: %.1f%%\" % accuracy(predictions, batch_labels))\n",
    "                print(\"Validation accuracy: %.1f%%\" % accuracy(\n",
    "                        valid_prediction.eval(), valid_labels))\n",
    "        print(\"Test accuracy: %.1f%%\" % accuracy(test_prediction.eval(), test_labels))\n"
   ]
  },
  {
   "cell_type": "code",
   "execution_count": 164,
   "metadata": {
    "collapsed": false
   },
   "outputs": [],
   "source": [
    "def nn_function(num_steps, num_batches, x, y, hidden_layer_nodes, l2_weights, batch_size,valid_dataset,test_dataset): \n",
    "    graph = tf.Graph()\n",
    "    with graph.as_default():\n",
    "        # Input data.\n",
    "        tf_train_dataset = tf.placeholder(tf.float32,\n",
    "                                          shape=(batch_size, x))\n",
    "        tf_train_labels = tf.placeholder(tf.float32, shape=(batch_size, y))\n",
    "        tf_valid_dataset = tf.constant(valid_dataset)\n",
    "        tf_test_dataset = tf.constant(test_dataset)\n",
    "\n",
    "        # Variables.\n",
    "        weights_1, biases_1 = paras_train(x, hidden_layer_nodes)\n",
    "        weights_2, biases_2 = paras_train(hidden_layer_nodes,y)\n",
    "\n",
    "        # Training computation.\n",
    "        logits_1 = tf.matmul(tf_train_dataset, weights_1) + biases_1\n",
    "        tf_train_dataset_2 = tf.nn.relu(logits_1)\n",
    "        logits_2 = tf.matmul(tf_train_dataset_2, weights_2) + biases_2\n",
    "        loss = tf.reduce_mean(\n",
    "            tf.nn.softmax_cross_entropy_with_logits(logits_2, tf_train_labels))\n",
    "        l2_loss = tf.nn.l2_loss(weights_1) + tf.nn.l2_loss(weights_2)\n",
    "        sum_loss = loss + l2_loss*l2_weights\n",
    "\n",
    "        # Optimizer.\n",
    "        optimizer = tf.train.GradientDescentOptimizer(0.5).minimize(sum_loss)\n",
    "\n",
    "        # Predictions for the training, validation, and test data.\n",
    "        train_prediction = tf.nn.softmax(logits_2)\n",
    "        valid_prediction = tf.nn.softmax(\n",
    "            tf.matmul(tf.nn.relu(tf.matmul(tf_valid_dataset, weights_1) + biases_1), weights_2) + biases_2)\n",
    "        test_prediction = tf.nn.softmax(\n",
    "            tf.matmul(tf.nn.relu(tf.matmul(tf_test_dataset,  weights_1) + biases_1), weights_2) + biases_2)\n",
    "    \n",
    "    \n",
    "    \n",
    "    with tf.Session(graph=graph) as session:\n",
    "        tf.global_variables_initializer().run()\n",
    "        print(\"Initialized\")\n",
    "        for step in range(num_steps):\n",
    "            # Pick an offset within the training data, which has been randomized.\n",
    "            # Note: we could use better randomization across epochs.\n",
    "            if(num_batches != None):\n",
    "                offset = step % num_batches\n",
    "            else:\n",
    "                offset = (step * batch_size) % (train_labels.shape[0] - batch_size)\n",
    "            # Generate a minibatch.\n",
    "            batch_data = train_dataset[offset:(offset + batch_size), :]\n",
    "            batch_labels = train_labels[offset:(offset + batch_size), :]\n",
    "            # Prepare a dictionary telling the session where to feed the minibatch.\n",
    "            # The key of the dictionary is the placeholder node of the graph to be fed,\n",
    "            # and the value is the numpy array to feed to it.\n",
    "            feed_dict = {tf_train_dataset : batch_data, tf_train_labels : batch_labels}\n",
    "            _, l, predictions = session.run(\n",
    "                [optimizer, sum_loss, train_prediction], feed_dict=feed_dict)\n",
    "            if (step % (num_steps/5) == 0):\n",
    "                print(\"Minibatch loss at step %d: %f\" % (step, l))\n",
    "                print(\"Minibatch accuracy: %.1f%%\" % accuracy(predictions, batch_labels))\n",
    "                print(\"Validation accuracy: %.1f%%\" % accuracy(\n",
    "                        valid_prediction.eval(), valid_labels))\n",
    "        print(\"Test accuracy: %.1f%%\" % accuracy(test_prediction.eval(), test_labels))\n",
    "\n",
    "    "
   ]
  },
  {
   "cell_type": "code",
   "execution_count": 160,
   "metadata": {
    "collapsed": false
   },
   "outputs": [
    {
     "name": "stdout",
     "output_type": "stream",
     "text": [
      "Initialized\n",
      "Minibatch loss at step 0: 15.271442\n",
      "Minibatch accuracy: 9.4%\n",
      "Validation accuracy: 13.0%\n",
      "Minibatch loss at step 500: 1.170235\n",
      "Minibatch accuracy: 78.9%\n",
      "Validation accuracy: 76.3%\n",
      "Minibatch loss at step 1000: 1.081265\n",
      "Minibatch accuracy: 76.6%\n",
      "Validation accuracy: 78.3%\n",
      "Minibatch loss at step 1500: 0.566859\n",
      "Minibatch accuracy: 83.6%\n",
      "Validation accuracy: 79.8%\n",
      "Minibatch loss at step 2000: 0.598325\n",
      "Minibatch accuracy: 89.1%\n",
      "Validation accuracy: 80.9%\n",
      "Minibatch loss at step 2500: 0.700691\n",
      "Minibatch accuracy: 79.7%\n",
      "Validation accuracy: 81.3%\n",
      "Minibatch loss at step 3000: 0.691002\n",
      "Minibatch accuracy: 82.8%\n",
      "Validation accuracy: 81.8%\n",
      "Test accuracy: 88.9%\n"
     ]
    }
   ],
   "source": [
    "x = image_size*image_size\n",
    "y = num_labels\n",
    "batch_size = 128\n",
    "l2_weights = 1e-3\n",
    "num_steps = 3001\n",
    "num_batches = None\n",
    "logistic_function(num_steps,num_batches, x, y, l2_weights,batch_size,valid_dataset,test_dataset)  \n"
   ]
  },
  {
   "cell_type": "code",
   "execution_count": 161,
   "metadata": {
    "collapsed": false
   },
   "outputs": [
    {
     "name": "stdout",
     "output_type": "stream",
     "text": [
      "Initialized\n",
      "Minibatch loss at step 0: 721.238892\n",
      "Minibatch accuracy: 7.0%\n",
      "Validation accuracy: 33.4%\n",
      "Minibatch loss at step 500: 193.538162\n",
      "Minibatch accuracy: 86.7%\n",
      "Validation accuracy: 79.7%\n",
      "Minibatch loss at step 1000: 114.826401\n",
      "Minibatch accuracy: 80.5%\n",
      "Validation accuracy: 82.1%\n",
      "Minibatch loss at step 1500: 68.734932\n",
      "Minibatch accuracy: 89.1%\n",
      "Validation accuracy: 83.3%\n",
      "Minibatch loss at step 2000: 41.165405\n",
      "Minibatch accuracy: 93.8%\n",
      "Validation accuracy: 84.8%\n",
      "Minibatch loss at step 2500: 25.204725\n",
      "Minibatch accuracy: 86.7%\n",
      "Validation accuracy: 85.8%\n",
      "Minibatch loss at step 3000: 15.432253\n",
      "Minibatch accuracy: 89.1%\n",
      "Validation accuracy: 86.3%\n",
      "Test accuracy: 92.8%\n"
     ]
    }
   ],
   "source": [
    "x = image_size*image_size\n",
    "y = num_labels\n",
    "batch_size = 128\n",
    "l2_weights = 1e-3\n",
    "hidden_layer_nodes = 1024\n",
    "num_steps = 3001\n",
    "num_batches = None\n",
    "nn_function(num_steps,num_batches, x, y, hidden_layer_nodes, l2_weights,batch_size,valid_dataset,test_dataset)"
   ]
  },
  {
   "cell_type": "markdown",
   "metadata": {},
   "source": [
    "**Better than 86.7% previous result**"
   ]
  },
  {
   "cell_type": "markdown",
   "metadata": {
    "colab_type": "text",
    "id": "na8xX2yHZzNF"
   },
   "source": [
    "---\n",
    "Problem 2\n",
    "---------\n",
    "Let's demonstrate an extreme case of overfitting. Restrict your training data to just a few batches. What happens?\n",
    "\n",
    "---"
   ]
  },
  {
   "cell_type": "code",
   "execution_count": 165,
   "metadata": {
    "collapsed": false
   },
   "outputs": [
    {
     "name": "stdout",
     "output_type": "stream",
     "text": [
      "Initialized\n",
      "Minibatch loss at step 0: 15.567070\n",
      "Minibatch accuracy: 10.9%\n",
      "Validation accuracy: 13.5%\n",
      "Minibatch loss at step 30: 0.619145\n",
      "Minibatch accuracy: 90.6%\n",
      "Validation accuracy: 41.8%\n",
      "Minibatch loss at step 60: 0.130376\n",
      "Minibatch accuracy: 99.2%\n",
      "Validation accuracy: 45.8%\n",
      "Minibatch loss at step 90: 0.039852\n",
      "Minibatch accuracy: 100.0%\n",
      "Validation accuracy: 47.3%\n",
      "Minibatch loss at step 120: 0.026610\n",
      "Minibatch accuracy: 100.0%\n",
      "Validation accuracy: 48.2%\n",
      "Test accuracy: 53.4%\n"
     ]
    }
   ],
   "source": [
    "x = image_size*image_size\n",
    "y = num_labels\n",
    "batch_size = 128\n",
    "l2_weights = 1e-3\n",
    "num_steps = 150\n",
    "num_batches = 5\n",
    "logistic_function(num_steps,num_batches, x, y, l2_weights,batch_size,valid_dataset,test_dataset)  "
   ]
  },
  {
   "cell_type": "code",
   "execution_count": 166,
   "metadata": {
    "collapsed": false
   },
   "outputs": [
    {
     "name": "stdout",
     "output_type": "stream",
     "text": [
      "Initialized\n",
      "Minibatch loss at step 0: 833.989868\n",
      "Minibatch accuracy: 5.0%\n",
      "Validation accuracy: 16.4%\n",
      "Minibatch loss at step 30: 310.087341\n",
      "Minibatch accuracy: 100.0%\n",
      "Validation accuracy: 26.5%\n",
      "Minibatch loss at step 60: 300.920654\n",
      "Minibatch accuracy: 100.0%\n",
      "Validation accuracy: 26.5%\n",
      "Minibatch loss at step 90: 292.024933\n",
      "Minibatch accuracy: 100.0%\n",
      "Validation accuracy: 26.5%\n",
      "Minibatch loss at step 120: 283.392273\n",
      "Minibatch accuracy: 100.0%\n",
      "Validation accuracy: 26.6%\n",
      "Test accuracy: 27.6%\n"
     ]
    }
   ],
   "source": [
    "x = image_size*image_size\n",
    "y = num_labels\n",
    "batch_size = 20\n",
    "l2_weights = 1e-3\n",
    "hidden_layer_nodes = 1024\n",
    "num_steps = 150\n",
    "num_batches = 5\n",
    "nn_function(num_steps,num_batches, x, y, hidden_layer_nodes, l2_weights,batch_size,valid_dataset,test_dataset)"
   ]
  },
  {
   "cell_type": "markdown",
   "metadata": {},
   "source": [
    "## It is overfitting, train accuracy reach 100% but test are low"
   ]
  },
  {
   "cell_type": "markdown",
   "metadata": {
    "colab_type": "text",
    "id": "ww3SCBUdlkRc"
   },
   "source": [
    "---\n",
    "Problem 3\n",
    "---------\n",
    "Introduce Dropout on the hidden layer of the neural network. Remember: Dropout should only be introduced during training, not evaluation, otherwise your evaluation results would be stochastic as well. TensorFlow provides `nn.dropout()` for that, but you have to make sure it's only inserted during training.\n",
    "\n",
    "What happens to our extreme overfitting case?\n",
    "\n",
    "---"
   ]
  },
  {
   "cell_type": "code",
   "execution_count": 171,
   "metadata": {
    "collapsed": true
   },
   "outputs": [],
   "source": [
    "def nn_dropout_function(num_steps,num_batches, x, y, hidden_layer_nodes, l2_weights, batch_size,valid_dataset,test_dataset): \n",
    "    graph = tf.Graph()\n",
    "    with graph.as_default():\n",
    "        # Input data.\n",
    "        tf_train_dataset = tf.placeholder(tf.float32,\n",
    "                                          shape=(batch_size, x))\n",
    "        tf_train_labels = tf.placeholder(tf.float32, shape=(batch_size, y))\n",
    "        tf_valid_dataset = tf.constant(valid_dataset)\n",
    "        tf_test_dataset = tf.constant(test_dataset)\n",
    "        \n",
    "        # Dropout\n",
    "        dropout = tf.placeholder(tf.float32)\n",
    "\n",
    "        # Variables.\n",
    "        weights_1, biases_1 = paras_train(x, hidden_layer_nodes)\n",
    "        weights_2, biases_2 = paras_train(hidden_layer_nodes,y)\n",
    "\n",
    "        # Training computation.\n",
    "        logits_1 = tf.matmul(tf_train_dataset, weights_1) + biases_1        \n",
    "        ## Add dropout\n",
    "        tf_train_dataset_2 = tf.nn.dropout(tf.nn.relu(logits_1),dropout)\n",
    "        logits_2 = tf.matmul(tf_train_dataset_2, weights_2) + biases_2\n",
    "        loss = tf.reduce_mean(\n",
    "            tf.nn.softmax_cross_entropy_with_logits(logits_2, tf_train_labels))\n",
    "        l2_loss = tf.nn.l2_loss(weights_1) + tf.nn.l2_loss(weights_2)\n",
    "        sum_loss = loss + l2_loss*l2_weights\n",
    "\n",
    "        # Optimizer.\n",
    "        optimizer = tf.train.GradientDescentOptimizer(0.5).minimize(sum_loss)\n",
    "\n",
    "        # Predictions for the training, validation, and test data.\n",
    "        train_prediction = tf.nn.softmax(logits_2)\n",
    "        valid_prediction = tf.nn.softmax(\n",
    "            tf.matmul(tf.nn.relu(tf.matmul(tf_valid_dataset, weights_1) + biases_1), weights_2) + biases_2)\n",
    "        test_prediction = tf.nn.softmax(\n",
    "            tf.matmul(tf.nn.relu(tf.matmul(tf_test_dataset,  weights_1) + biases_1), weights_2) + biases_2)\n",
    "    \n",
    "    \n",
    "    \n",
    "    with tf.Session(graph=graph) as session:\n",
    "        tf.global_variables_initializer().run()\n",
    "        print(\"Initialized\")\n",
    "        for step in range(num_steps):\n",
    "            # Pick an offset within the training data, which has been randomized.\n",
    "            # Note: we could use better randomization across epochs.\n",
    "            if(num_batches != None):\n",
    "                offset = step % num_batches\n",
    "            else:\n",
    "                offset = (step * batch_size) % (train_labels.shape[0] - batch_size)\n",
    "            # Generate a minibatch.\n",
    "            batch_data = train_dataset[offset:(offset + batch_size), :]\n",
    "            batch_labels = train_labels[offset:(offset + batch_size), :]\n",
    "            # Prepare a dictionary telling the session where to feed the minibatch.\n",
    "            # The key of the dictionary is the placeholder node of the graph to be fed,\n",
    "            # and the value is the numpy array to feed to it.\n",
    "            feed_dict = {tf_train_dataset : batch_data, tf_train_labels : batch_labels, dropout: 0.5}\n",
    "            _, l, predictions = session.run(\n",
    "                [optimizer, sum_loss, train_prediction], feed_dict=feed_dict)\n",
    "            if (step % (num_steps/5) == 0):\n",
    "                print(\"Minibatch loss at step %d: %f\" % (step, l))\n",
    "                print(\"Minibatch accuracy: %.1f%%\" % accuracy(predictions, batch_labels))\n",
    "                print(\"Validation accuracy: %.1f%%\" % accuracy(\n",
    "                        valid_prediction.eval(), valid_labels))\n",
    "        print(\"Test accuracy: %.1f%%\" % accuracy(test_prediction.eval(), test_labels))\n",
    "\n",
    "    "
   ]
  },
  {
   "cell_type": "code",
   "execution_count": 173,
   "metadata": {
    "collapsed": false
   },
   "outputs": [
    {
     "name": "stdout",
     "output_type": "stream",
     "text": [
      "using batch number 10\n",
      "Initialized\n",
      "Minibatch loss at step 0: 593.364563\n",
      "Minibatch accuracy: 6.2%\n",
      "Validation accuracy: 35.1%\n",
      "Minibatch loss at step 30: 305.212494\n",
      "Minibatch accuracy: 100.0%\n",
      "Validation accuracy: 70.0%\n",
      "Minibatch loss at step 60: 296.189941\n",
      "Minibatch accuracy: 100.0%\n",
      "Validation accuracy: 70.0%\n",
      "Minibatch loss at step 90: 287.433960\n",
      "Minibatch accuracy: 100.0%\n",
      "Validation accuracy: 70.0%\n",
      "Minibatch loss at step 120: 278.937012\n",
      "Minibatch accuracy: 100.0%\n",
      "Validation accuracy: 70.0%\n",
      "Test accuracy: 76.4%\n",
      "Initialized\n",
      "Minibatch loss at step 0: 730.753784\n",
      "Minibatch accuracy: 14.1%\n",
      "Validation accuracy: 26.0%\n",
      "Minibatch loss at step 30: 305.395996\n",
      "Minibatch accuracy: 100.0%\n",
      "Validation accuracy: 68.2%\n",
      "Minibatch loss at step 60: 296.433899\n",
      "Minibatch accuracy: 100.0%\n",
      "Validation accuracy: 70.3%\n",
      "Minibatch loss at step 90: 287.715881\n",
      "Minibatch accuracy: 100.0%\n",
      "Validation accuracy: 70.1%\n",
      "Minibatch loss at step 120: 279.233826\n",
      "Minibatch accuracy: 100.0%\n",
      "Validation accuracy: 70.4%\n",
      "Test accuracy: 78.4%\n"
     ]
    }
   ],
   "source": [
    "x = image_size*image_size\n",
    "y = num_labels\n",
    "batch_size = 128\n",
    "l2_weights = 1e-3\n",
    "hidden_layer_nodes = 1024\n",
    "num_steps = 150\n",
    "num_batches = 10\n",
    "print(\"using batch number %d\" %(num_batches))\n",
    "nn_function(num_steps,num_batches, x, y, hidden_layer_nodes, l2_weights,batch_size,valid_dataset,test_dataset)\n",
    "nn_dropout_function(num_steps,num_batches, x, y, hidden_layer_nodes, l2_weights, batch_size,valid_dataset,test_dataset)"
   ]
  },
  {
   "cell_type": "markdown",
   "metadata": {},
   "source": [
    "## The dropout can improve the test accuracy"
   ]
  },
  {
   "cell_type": "markdown",
   "metadata": {
    "colab_type": "text",
    "id": "-b1hTz3VWZjw"
   },
   "source": [
    "---\n",
    "Problem 4\n",
    "---------\n",
    "\n",
    "Try to get the best performance you can using a multi-layer model! The best reported test accuracy using a deep network is [97.1%](http://yaroslavvb.blogspot.com/2011/09/notmnist-dataset.html?showComment=1391023266211#c8758720086795711595).\n",
    "\n",
    "One avenue you can explore is to add multiple layers.\n",
    "\n",
    "Another one is to use learning rate decay:\n",
    "\n",
    "    global_step = tf.Variable(0)  # count the number of steps taken.\n",
    "    learning_rate = tf.train.exponential_decay(0.5, global_step, ...)\n",
    "    optimizer = tf.train.GradientDescentOptimizer(learning_rate).minimize(loss, global_step=global_step)\n",
    " \n",
    " ---\n"
   ]
  },
  {
   "cell_type": "code",
   "execution_count": 208,
   "metadata": {
    "collapsed": false
   },
   "outputs": [],
   "source": [
    "def multilayer_function(x, y, hidden_layer_nodes,layer_number,dataset):\n",
    "    weights = [0]*layer_number\n",
    "    biases =  [0]*layer_number\n",
    "    l2_loss = 0\n",
    "    for i in range(layer_number):\n",
    "        if i == 0:\n",
    "            weights[i], biases[i] = paras_train(x, hidden_layer_nodes)\n",
    "            logits = tf.matmul(dataset, weights[i]) + biases[i]\n",
    "        elif i == layer_number -1:\n",
    "            weights[i], biases[i] = paras_train(hidden_layer_nodes,y)\n",
    "            logits = tf.matmul(tf.nn.relu(logits), weights[i]) + biases[i]\n",
    "        \n",
    "        else:\n",
    "            weights[i], biases[i] = paras_train(hidden_layer_nodes,hidden_layer_nodes)\n",
    "            logits = tf.matmul(tf.nn.relu(logits), weights[i]) + biases[i]\n",
    "        l2_loss += tf.nn.l2_loss(weights[i])\n",
    "    return weights,biases,logits,l2_loss\n",
    "    "
   ]
  },
  {
   "cell_type": "code",
   "execution_count": 212,
   "metadata": {
    "collapsed": true
   },
   "outputs": [],
   "source": [
    "def multilayer_prediction(dataset,weights,biases):\n",
    "    for i in range(len(weights)):\n",
    "        if i == 0:\n",
    "            a = tf.nn.relu(tf.matmul(dataset, weights[i]) + biases[i])\n",
    "        elif i == len(weights)-1:\n",
    "            a = tf.nn.softmax(tf.matmul(a, weights[i]) + biases[i])\n",
    "        else:\n",
    "            a = tf.nn.relu(tf.matmul(a, weights[i]) + biases[i])\n",
    "        \n",
    "    return a"
   ]
  },
  {
   "cell_type": "code",
   "execution_count": 215,
   "metadata": {
    "collapsed": true
   },
   "outputs": [],
   "source": [
    "def nn_multilayer_function(num_steps,num_batches, x, y, hidden_layer_nodes,layer_number, l2_weights, batch_size,valid_dataset,test_dataset): \n",
    "    graph = tf.Graph()\n",
    "    with graph.as_default():\n",
    "        # Input data.\n",
    "        tf_train_dataset = tf.placeholder(tf.float32,\n",
    "                                          shape=(batch_size, x))\n",
    "        tf_train_labels = tf.placeholder(tf.float32, shape=(batch_size, y))\n",
    "        tf_valid_dataset = tf.constant(valid_dataset)\n",
    "        tf_test_dataset = tf.constant(test_dataset)\n",
    "        \n",
    "        # Variables.\n",
    "        weights,biases,logits,l2_loss = multilayer_function(x, y, hidden_layer_nodes,layer_number,tf_train_dataset)\n",
    "\n",
    "        loss = tf.reduce_mean(\n",
    "            tf.nn.softmax_cross_entropy_with_logits(logits, tf_train_labels))\n",
    "        \n",
    "        sum_loss = loss + l2_loss*l2_weights\n",
    "\n",
    "        # Optimizer.\n",
    "        global_step = tf.Variable(0)  # count the number of steps taken.\n",
    "        learning_rate = tf.train.exponential_decay(0.5, global_step, 100000, 0.96)\n",
    "        optimizer = tf.train.GradientDescentOptimizer(learning_rate).minimize(loss, global_step=global_step)\n",
    "        optimizer = tf.train.GradientDescentOptimizer(0.5).minimize(sum_loss)\n",
    "\n",
    "        # Predictions for the training, validation, and test data.\n",
    "        train_prediction = tf.nn.softmax(logits)\n",
    "        valid_prediction = multilayer_prediction(tf_valid_dataset, weights, biases)\n",
    "        test_prediction =  multilayer_prediction(tf_test_dataset,  weights, biases)\n",
    "    \n",
    "    \n",
    "    with tf.Session(graph=graph) as session:\n",
    "        tf.global_variables_initializer().run()\n",
    "        print(\"Initialized\")\n",
    "        for step in range(num_steps):\n",
    "            # Pick an offset within the training data, which has been randomized.\n",
    "            # Note: we could use better randomization across epochs.\n",
    "            if(num_batches != None):\n",
    "                offset = step % num_batches\n",
    "            else:\n",
    "                offset = (step * batch_size) % (train_labels.shape[0] - batch_size)\n",
    "            # Generate a minibatch.\n",
    "            batch_data = train_dataset[offset:(offset + batch_size), :]\n",
    "            batch_labels = train_labels[offset:(offset + batch_size), :]\n",
    "            # Prepare a dictionary telling the session where to feed the minibatch.\n",
    "            # The key of the dictionary is the placeholder node of the graph to be fed,\n",
    "            # and the value is the numpy array to feed to it.\n",
    "            feed_dict = {tf_train_dataset : batch_data, tf_train_labels : batch_labels}\n",
    "            _, l, predictions = session.run(\n",
    "                [optimizer, sum_loss, train_prediction], feed_dict=feed_dict)\n",
    "            if (step % (num_steps/5) == 0):\n",
    "                print(\"Minibatch loss at step %d: %f\" % (step, l))\n",
    "                print(\"Minibatch accuracy: %.1f%%\" % accuracy(predictions, batch_labels))\n",
    "                print(\"Validation accuracy: %.1f%%\" % accuracy(\n",
    "                        valid_prediction.eval(), valid_labels))\n",
    "        print(\"Test accuracy: %.1f%%\" % accuracy(test_prediction.eval(), test_labels))\n",
    "\n",
    "    "
   ]
  },
  {
   "cell_type": "code",
   "execution_count": 217,
   "metadata": {
    "collapsed": false
   },
   "outputs": [
    {
     "name": "stdout",
     "output_type": "stream",
     "text": [
      "Initialized\n",
      "Minibatch loss at step 0: 665.523376\n",
      "Minibatch accuracy: 8.6%\n",
      "Validation accuracy: 28.2%\n",
      "Minibatch loss at step 800: 140.468048\n",
      "Minibatch accuracy: 85.9%\n",
      "Validation accuracy: 81.0%\n",
      "Minibatch loss at step 1600: 61.988884\n",
      "Minibatch accuracy: 82.0%\n",
      "Validation accuracy: 83.7%\n",
      "Minibatch loss at step 2400: 27.762058\n",
      "Minibatch accuracy: 89.1%\n",
      "Validation accuracy: 85.4%\n",
      "Minibatch loss at step 3200: 12.654583\n",
      "Minibatch accuracy: 88.3%\n",
      "Validation accuracy: 86.9%\n",
      "Test accuracy: 93.6%\n"
     ]
    }
   ],
   "source": [
    "x = image_size*image_size\n",
    "y = num_labels\n",
    "batch_size = 128\n",
    "l2_weights = 1e-3\n",
    "hidden_layer_nodes = 1024\n",
    "layer_number = 2\n",
    "num_steps = 4000\n",
    "num_batches = None \n",
    "nn_multilayer_function(num_steps,num_batches, x, y, hidden_layer_nodes,layer_number, l2_weights, batch_size,valid_dataset,test_dataset)"
   ]
  },
  {
   "cell_type": "code",
   "execution_count": 218,
   "metadata": {
    "collapsed": false
   },
   "outputs": [
    {
     "name": "stdout",
     "output_type": "stream",
     "text": [
      "Initialized\n",
      "Minibatch loss at step 0: 8295.061523\n",
      "Minibatch accuracy: 7.8%\n",
      "Validation accuracy: 14.8%\n",
      "Minibatch loss at step 800: nan\n",
      "Minibatch accuracy: 11.7%\n",
      "Validation accuracy: 10.0%\n",
      "Minibatch loss at step 1600: nan\n",
      "Minibatch accuracy: 7.8%\n",
      "Validation accuracy: 10.0%\n",
      "Minibatch loss at step 2400: nan\n",
      "Minibatch accuracy: 9.4%\n",
      "Validation accuracy: 10.0%\n",
      "Minibatch loss at step 3200: nan\n",
      "Minibatch accuracy: 11.7%\n",
      "Validation accuracy: 10.0%\n",
      "Test accuracy: 10.0%\n"
     ]
    }
   ],
   "source": [
    "x = image_size*image_size\n",
    "y = num_labels\n",
    "batch_size = 128\n",
    "l2_weights = 1e-3\n",
    "hidden_layer_nodes = 1024\n",
    "layer_number = 3\n",
    "num_steps = 4000\n",
    "num_batches = None \n",
    "nn_multilayer_function(num_steps,num_batches, x, y, hidden_layer_nodes,layer_number, l2_weights, batch_size,valid_dataset,test_dataset)"
   ]
  },
  {
   "cell_type": "code",
   "execution_count": 232,
   "metadata": {
    "collapsed": true
   },
   "outputs": [],
   "source": [
    "def multilayer_hidden_nodes_reduce_function(x, y, hidden_layer_nodes,layer_number,dataset):\n",
    "    weights = [0]*layer_number\n",
    "    biases =  [0]*layer_number\n",
    "    l2_loss = 0\n",
    "    for i in range(layer_number):\n",
    "        if i == 0:\n",
    "            num = int(hidden_layer_nodes/(2**i))\n",
    "            print(num)\n",
    "            weights[i], biases[i] = paras_train(x, num)\n",
    "            logits = tf.matmul(dataset, weights[i]) + biases[i]\n",
    "        elif i == layer_number -1:\n",
    "            num = int(hidden_layer_nodes/(2**(i-1)))\n",
    "            print(num)\n",
    "            weights[i], biases[i] = paras_train(num,y)\n",
    "            logits = tf.matmul(tf.nn.relu(logits), weights[i]) + biases[i]\n",
    "        else:\n",
    "            num_1 = int(hidden_layer_nodes/(2**i))\n",
    "            num_2 = int(hidden_layer_nodes/(2**(i-1)))\n",
    "            print(num_1,num_2)\n",
    "            weights[i], biases[i] = paras_train(num_2,num_1)\n",
    "            logits = tf.matmul(tf.nn.relu(logits), weights[i]) + biases[i]\n",
    "        l2_loss += tf.nn.l2_loss(weights[i])\n",
    "    return weights,biases,logits,l2_loss\n",
    "    "
   ]
  },
  {
   "cell_type": "code",
   "execution_count": 233,
   "metadata": {
    "collapsed": false
   },
   "outputs": [],
   "source": [
    "def nn_multilayer_hidden_nodes_reduce_function(num_steps,num_batches, x, y, hidden_layer_nodes,layer_number, l2_weights, batch_size,valid_dataset,test_dataset): \n",
    "    graph = tf.Graph()\n",
    "    with graph.as_default():\n",
    "        # Input data.\n",
    "        tf_train_dataset = tf.placeholder(tf.float32,\n",
    "                                          shape=(batch_size, x))\n",
    "        tf_train_labels = tf.placeholder(tf.float32, shape=(batch_size, y))\n",
    "        tf_valid_dataset = tf.constant(valid_dataset)\n",
    "        tf_test_dataset = tf.constant(test_dataset)\n",
    "        \n",
    "        # Variables.\n",
    "        weights,biases,logits,l2_loss = multilayer_hidden_nodes_reduce_function(x, y, hidden_layer_nodes,layer_number,tf_train_dataset)\n",
    "\n",
    "        loss = tf.reduce_mean(\n",
    "            tf.nn.softmax_cross_entropy_with_logits(logits, tf_train_labels))\n",
    "        \n",
    "        sum_loss = loss + l2_loss*l2_weights\n",
    "\n",
    "        # Optimizer.\n",
    "        global_step = tf.Variable(0)  # count the number of steps taken.\n",
    "        learning_rate = tf.train.exponential_decay(0.5, global_step, 100000, 0.96)\n",
    "        optimizer = tf.train.GradientDescentOptimizer(learning_rate).minimize(loss, global_step=global_step)\n",
    "        optimizer = tf.train.GradientDescentOptimizer(0.5).minimize(sum_loss)\n",
    "\n",
    "        # Predictions for the training, validation, and test data.\n",
    "        train_prediction = tf.nn.softmax(logits)\n",
    "        valid_prediction = multilayer_prediction(tf_valid_dataset, weights, biases)\n",
    "        test_prediction =  multilayer_prediction(tf_test_dataset,  weights, biases)\n",
    "    \n",
    "    \n",
    "    with tf.Session(graph=graph) as session:\n",
    "        tf.global_variables_initializer().run()\n",
    "        print(\"Initialized\")\n",
    "        for step in range(num_steps):\n",
    "            # Pick an offset within the training data, which has been randomized.\n",
    "            # Note: we could use better randomization across epochs.\n",
    "            if(num_batches != None):\n",
    "                offset = step % num_batches\n",
    "            else:\n",
    "                offset = (step * batch_size) % (train_labels.shape[0] - batch_size)\n",
    "            # Generate a minibatch.\n",
    "            batch_data = train_dataset[offset:(offset + batch_size), :]\n",
    "            batch_labels = train_labels[offset:(offset + batch_size), :]\n",
    "            # Prepare a dictionary telling the session where to feed the minibatch.\n",
    "            # The key of the dictionary is the placeholder node of the graph to be fed,\n",
    "            # and the value is the numpy array to feed to it.\n",
    "            feed_dict = {tf_train_dataset : batch_data, tf_train_labels : batch_labels}\n",
    "            _, l, predictions = session.run(\n",
    "                [optimizer, sum_loss, train_prediction], feed_dict=feed_dict)\n",
    "            if (step % (num_steps/5) == 0):\n",
    "                print(\"Minibatch loss at step %d: %f\" % (step, l))\n",
    "                print(\"Minibatch accuracy: %.1f%%\" % accuracy(predictions, batch_labels))\n",
    "                print(\"Validation accuracy: %.1f%%\" % accuracy(\n",
    "                        valid_prediction.eval(), valid_labels))\n",
    "        print(\"Test accuracy: %.1f%%\" % accuracy(test_prediction.eval(), test_labels))\n",
    "\n",
    "    "
   ]
  },
  {
   "cell_type": "code",
   "execution_count": 237,
   "metadata": {
    "collapsed": false
   },
   "outputs": [
    {
     "name": "stdout",
     "output_type": "stream",
     "text": [
      "1024\n",
      "1024\n",
      "Initialized\n",
      "Minibatch loss at step 0: 640.559692\n",
      "Minibatch accuracy: 7.0%\n",
      "Validation accuracy: 33.6%\n",
      "Minibatch loss at step 4000: 5.990063\n",
      "Minibatch accuracy: 89.1%\n",
      "Validation accuracy: 87.4%\n",
      "Minibatch loss at step 8000: 0.797676\n",
      "Minibatch accuracy: 79.7%\n",
      "Validation accuracy: 87.6%\n",
      "Minibatch loss at step 12000: 0.632559\n",
      "Minibatch accuracy: 86.7%\n",
      "Validation accuracy: 88.5%\n",
      "Minibatch loss at step 16000: 0.397515\n",
      "Minibatch accuracy: 92.2%\n",
      "Validation accuracy: 88.7%\n",
      "Test accuracy: 94.5%\n"
     ]
    }
   ],
   "source": [
    "x = image_size*image_size\n",
    "y = num_labels\n",
    "batch_size = 128\n",
    "l2_weights = 1e-3\n",
    "hidden_layer_nodes = 1024\n",
    "layer_number = 2\n",
    "num_steps = 20000\n",
    "num_batches = None \n",
    "nn_multilayer_hidden_nodes_reduce_function(num_steps,num_batches, x, y, hidden_layer_nodes,layer_number, l2_weights, batch_size,valid_dataset,test_dataset)"
   ]
  },
  {
   "cell_type": "code",
   "execution_count": 252,
   "metadata": {
    "collapsed": false
   },
   "outputs": [
    {
     "name": "stdout",
     "output_type": "stream",
     "text": [
      "1024\n",
      "512 1024\n",
      "512\n",
      "Initialized\n",
      "Minibatch loss at step 0: 4639.091797\n",
      "Minibatch accuracy: 10.2%\n",
      "Validation accuracy: 10.0%\n",
      "Minibatch loss at step 4000: nan\n",
      "Minibatch accuracy: 10.9%\n",
      "Validation accuracy: 10.0%\n",
      "Minibatch loss at step 8000: nan\n",
      "Minibatch accuracy: 7.0%\n",
      "Validation accuracy: 10.0%\n",
      "Minibatch loss at step 12000: nan\n",
      "Minibatch accuracy: 5.5%\n",
      "Validation accuracy: 10.0%\n",
      "Minibatch loss at step 16000: nan\n",
      "Minibatch accuracy: 8.6%\n",
      "Validation accuracy: 10.0%\n",
      "Test accuracy: 10.0%\n"
     ]
    }
   ],
   "source": [
    "x = image_size*image_size\n",
    "y = num_labels\n",
    "batch_size = 128\n",
    "l2_weights = 1e-3\n",
    "hidden_layer_nodes = 1024\n",
    "layer_number = 3\n",
    "num_steps = 20000\n",
    "num_batches = None \n",
    "nn_multilayer_function(num_steps,num_batches, x, y, hidden_layer_nodes,layer_number, l2_weights, batch_size,valid_dataset,test_dataset)"
   ]
  },
  {
   "cell_type": "code",
   "execution_count": 246,
   "metadata": {
    "collapsed": false
   },
   "outputs": [
    {
     "name": "stdout",
     "output_type": "stream",
     "text": [
      "128\n",
      "64 128\n",
      "32 64\n",
      "32\n",
      "Initialized\n",
      "Minibatch loss at step 0: 1737.109985\n",
      "Minibatch accuracy: 7.0%\n",
      "Validation accuracy: 10.0%\n",
      "Minibatch loss at step 400: nan\n",
      "Minibatch accuracy: 9.4%\n",
      "Validation accuracy: 10.0%\n",
      "Minibatch loss at step 800: nan\n",
      "Minibatch accuracy: 11.7%\n",
      "Validation accuracy: 10.0%\n",
      "Minibatch loss at step 1200: nan\n",
      "Minibatch accuracy: 4.7%\n",
      "Validation accuracy: 10.0%\n",
      "Minibatch loss at step 1600: nan\n",
      "Minibatch accuracy: 7.8%\n",
      "Validation accuracy: 10.0%\n",
      "Test accuracy: 10.0%\n"
     ]
    }
   ],
   "source": [
    "x = image_size*image_size\n",
    "y = num_labels\n",
    "batch_size = 128\n",
    "l2_weights = 1e-3\n",
    "hidden_layer_nodes = 1024\n",
    "layer_number = 4\n",
    "num_steps = 20000\n",
    "num_batches = None \n",
    "nn_multilayer_function(num_steps,num_batches, x, y, hidden_layer_nodes,layer_number, l2_weights, batch_size,valid_dataset,test_dataset)"
   ]
  },
  {
   "cell_type": "code",
   "execution_count": null,
   "metadata": {
    "collapsed": true
   },
   "outputs": [],
   "source": []
  }
 ],
 "metadata": {
  "anaconda-cloud": {},
  "colab": {
   "default_view": {},
   "name": "3_regularization.ipynb",
   "provenance": [],
   "version": "0.3.2",
   "views": {}
  },
  "kernelspec": {
   "display_name": "Python [conda env:tensorflow]",
   "language": "python",
   "name": "conda-env-tensorflow-py"
  },
  "language_info": {
   "codemirror_mode": {
    "name": "ipython",
    "version": 3
   },
   "file_extension": ".py",
   "mimetype": "text/x-python",
   "name": "python",
   "nbconvert_exporter": "python",
   "pygments_lexer": "ipython3",
   "version": "3.5.2"
  }
 },
 "nbformat": 4,
 "nbformat_minor": 0
}
